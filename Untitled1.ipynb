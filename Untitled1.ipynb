{
 "cells": [
  {
   "cell_type": "code",
   "execution_count": 1,
   "metadata": {},
   "outputs": [
    {
     "name": "stdout",
     "output_type": "stream",
     "text": [
      "Requirement already satisfied: geocoder in /home/jupyterlab/conda/envs/python/lib/python3.6/site-packages (1.38.1)\n",
      "Requirement already satisfied: click in /home/jupyterlab/conda/envs/python/lib/python3.6/site-packages (from geocoder) (7.1.2)\n",
      "Requirement already satisfied: requests in /home/jupyterlab/conda/envs/python/lib/python3.6/site-packages (from geocoder) (2.23.0)\n",
      "Requirement already satisfied: ratelim in /home/jupyterlab/conda/envs/python/lib/python3.6/site-packages (from geocoder) (0.1.6)\n",
      "Requirement already satisfied: six in /home/jupyterlab/conda/envs/python/lib/python3.6/site-packages (from geocoder) (1.15.0)\n",
      "Requirement already satisfied: future in /home/jupyterlab/conda/envs/python/lib/python3.6/site-packages (from geocoder) (0.18.2)\n",
      "Requirement already satisfied: certifi>=2017.4.17 in /home/jupyterlab/conda/envs/python/lib/python3.6/site-packages (from requests->geocoder) (2020.4.5.2)\n",
      "Requirement already satisfied: chardet<4,>=3.0.2 in /home/jupyterlab/conda/envs/python/lib/python3.6/site-packages (from requests->geocoder) (3.0.4)\n",
      "Requirement already satisfied: urllib3!=1.25.0,!=1.25.1,<1.26,>=1.21.1 in /home/jupyterlab/conda/envs/python/lib/python3.6/site-packages (from requests->geocoder) (1.25.9)\n",
      "Requirement already satisfied: idna<3,>=2.5 in /home/jupyterlab/conda/envs/python/lib/python3.6/site-packages (from requests->geocoder) (2.9)\n",
      "Requirement already satisfied: decorator in /home/jupyterlab/conda/envs/python/lib/python3.6/site-packages (from ratelim->geocoder) (4.4.2)\n",
      "Requirement already satisfied: geopy in /home/jupyterlab/conda/envs/python/lib/python3.6/site-packages (1.22.0)\n",
      "Requirement already satisfied: geographiclib<2,>=1.49 in /home/jupyterlab/conda/envs/python/lib/python3.6/site-packages (from geopy) (1.50)\n",
      "    Postal Code      Borough  \\\n",
      "0           M1B  Scarborough   \n",
      "1           M1C  Scarborough   \n",
      "2           M1E  Scarborough   \n",
      "3           M1G  Scarborough   \n",
      "4           M1H  Scarborough   \n",
      "..          ...          ...   \n",
      "98          M9N         York   \n",
      "99          M9P    Etobicoke   \n",
      "100         M9R    Etobicoke   \n",
      "101         M9V    Etobicoke   \n",
      "102         M9W    Etobicoke   \n",
      "\n",
      "                                          Neighborhood   Latitude  Longitude  \n",
      "0                                       Malvern, Rouge  43.806686 -79.194353  \n",
      "1               Rouge Hill, Port Union, Highland Creek  43.784535 -79.160497  \n",
      "2                    Guildwood, Morningside, West Hill  43.763573 -79.188711  \n",
      "3                                               Woburn  43.770992 -79.216917  \n",
      "4                                            Cedarbrae  43.773136 -79.239476  \n",
      "..                                                 ...        ...        ...  \n",
      "98                                              Weston  43.706876 -79.518188  \n",
      "99                                           Westmount  43.696319 -79.532242  \n",
      "100  Kingsview Village, St. Phillips, Martin Grove ...  43.688905 -79.554724  \n",
      "101  South Steeles, Silverstone, Humbergate, Jamest...  43.739416 -79.588437  \n",
      "102                Northwest, West Humber - Clairville  43.706748 -79.594054  \n",
      "\n",
      "[103 rows x 5 columns]\n"
     ]
    }
   ],
   "source": [
    "# Using geocoder as per the second part of the assignment\n",
    "!pip install geocoder\n",
    "!pip install geopy\n",
    "\n",
    "import pandas as pd\n",
    "\n",
    "import requests\n",
    "import numpy as np\n",
    "from geopy.geocoders import Nominatim\n",
    "import geocoder # import geocoder\n",
    "\n",
    "\n",
    "url = 'https://en.wikipedia.org/wiki/List_of_postal_codes_of_Canada:_M'\n",
    "read_table = pd.read_html(url,header=[0])\n",
    "dataframe1 = read_table[0]\n",
    "\n",
    "# renaming of the columns\n",
    "df = dataframe1.rename(index=str, columns={'Postcode':'Postal Code','Neighbourhood':'Neighborhood'})\n",
    "\n",
    "\n",
    "dataframe1 = dataframe1[dataframe1.Borough !='Not assigned']\n",
    "dataframe1.reset_index(drop=True,inplace=True)\n",
    "\n",
    "# grouping of Postalcodes\n",
    "dataframe1 = dataframe1.groupby('Postal Code',as_index=False).agg(lambda x: ','.join(set(x.dropna())))\n",
    "\n",
    "#in case a borough doesnt have a neighborhood then assign neighborhood to borough\n",
    "dataframe1.loc[dataframe1['Neighborhood'] == 'Not assigned','Neighborhood'] = dataframe1['Borough']\n",
    "\n",
    "dataframe1.shape\n",
    "\n",
    "dataframe_canada = pd.read_csv('http://cocl.us/Geospatial_data')\n",
    "\n",
    "#print(dataframe_canada)\n",
    "# Renaming and merging of columns\n",
    "dataframe_canada.columns = ['Postal Code','Latitude','Longitude']\n",
    "\n",
    "# Merge two dataframes\n",
    "df = pd.merge(left=dataframe1,right=dataframe_canada,on='Postal Code')\n",
    "print(df)"
   ]
  },
  {
   "cell_type": "code",
   "execution_count": null,
   "metadata": {},
   "outputs": [],
   "source": []
  }
 ],
 "metadata": {
  "kernelspec": {
   "display_name": "Python",
   "language": "python",
   "name": "conda-env-python-py"
  },
  "language_info": {
   "codemirror_mode": {
    "name": "ipython",
    "version": 3
   },
   "file_extension": ".py",
   "mimetype": "text/x-python",
   "name": "python",
   "nbconvert_exporter": "python",
   "pygments_lexer": "ipython3",
   "version": "3.6.10"
  }
 },
 "nbformat": 4,
 "nbformat_minor": 4
}
